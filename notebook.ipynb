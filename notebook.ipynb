{
 "cells": [
  {
   "cell_type": "code",
   "execution_count": null,
   "id": "0ce12c18-2976-41b4-9efb-d6eb414468b3",
   "metadata": {},
   "outputs": [],
   "source": []
  },
  {
   "cell_type": "code",
   "execution_count": null,
   "id": "ccd2892c-b2f4-48e8-996a-c8721c44bc60",
   "metadata": {},
   "outputs": [],
   "source": []
  },
  {
   "cell_type": "code",
   "execution_count": null,
   "id": "008a15cd-d150-4aca-89e4-ec31be1e4edd",
   "metadata": {},
   "outputs": [],
   "source": []
  },
  {
   "cell_type": "code",
   "execution_count": null,
   "id": "f629a546-064c-4e14-b23a-d6b7d5ebaad0",
   "metadata": {},
   "outputs": [],
   "source": []
  },
  {
   "cell_type": "markdown",
   "id": "9bc0ed23-f9dc-4f29-b9b7-788985088899",
   "metadata": {},
   "source": [
    "# Importando Bibliotecas"
   ]
  },
  {
   "cell_type": "code",
   "execution_count": 85,
   "id": "64a11ace-a925-4b51-98bd-9f3f66743347",
   "metadata": {},
   "outputs": [
    {
     "data": {
      "text/plain": [
       "<Figure size 2000x1200 with 0 Axes>"
      ]
     },
     "execution_count": 85,
     "metadata": {},
     "output_type": "execute_result"
    },
    {
     "data": {
      "text/plain": [
       "<Figure size 2000x1200 with 0 Axes>"
      ]
     },
     "metadata": {},
     "output_type": "display_data"
    }
   ],
   "source": [
    "import pandas as pd\n",
    "import numpy as np\n",
    "import matplotlib.pyplot as plt\n",
    "import seaborn as sns\n",
    "\n",
    "import warnings\n",
    "warnings.filterwarnings(\"ignore\")\n",
    "plt.figure(figsize=(20, 12))"
   ]
  },
  {
   "cell_type": "markdown",
   "id": "f2e8870a-64d2-4e46-9848-da075c34978f",
   "metadata": {},
   "source": [
    "# Carregando Dataset"
   ]
  },
  {
   "cell_type": "code",
   "execution_count": 56,
   "id": "e4b81b3c-859f-4616-92f5-e40e868e7ffa",
   "metadata": {
    "scrolled": true
   },
   "outputs": [
    {
     "data": {
      "text/html": [
       "<div>\n",
       "<style scoped>\n",
       "    .dataframe tbody tr th:only-of-type {\n",
       "        vertical-align: middle;\n",
       "    }\n",
       "\n",
       "    .dataframe tbody tr th {\n",
       "        vertical-align: top;\n",
       "    }\n",
       "\n",
       "    .dataframe thead th {\n",
       "        text-align: right;\n",
       "    }\n",
       "</style>\n",
       "<table border=\"1\" class=\"dataframe\">\n",
       "  <thead>\n",
       "    <tr style=\"text-align: right;\">\n",
       "      <th></th>\n",
       "      <th>Date</th>\n",
       "      <th>VendasSupermercados</th>\n",
       "      <th>CDI</th>\n",
       "    </tr>\n",
       "  </thead>\n",
       "  <tbody>\n",
       "    <tr>\n",
       "      <th>0</th>\n",
       "      <td>2010-01-01</td>\n",
       "      <td>76.39</td>\n",
       "      <td>0.66</td>\n",
       "    </tr>\n",
       "    <tr>\n",
       "      <th>1</th>\n",
       "      <td>2010-02-01</td>\n",
       "      <td>73.95</td>\n",
       "      <td>0.59</td>\n",
       "    </tr>\n",
       "    <tr>\n",
       "      <th>2</th>\n",
       "      <td>2010-03-01</td>\n",
       "      <td>81.69</td>\n",
       "      <td>0.76</td>\n",
       "    </tr>\n",
       "    <tr>\n",
       "      <th>3</th>\n",
       "      <td>2010-04-01</td>\n",
       "      <td>77.91</td>\n",
       "      <td>0.66</td>\n",
       "    </tr>\n",
       "    <tr>\n",
       "      <th>4</th>\n",
       "      <td>2010-05-01</td>\n",
       "      <td>78.66</td>\n",
       "      <td>0.75</td>\n",
       "    </tr>\n",
       "  </tbody>\n",
       "</table>\n",
       "</div>"
      ],
      "text/plain": [
       "         Date  VendasSupermercados   CDI\n",
       "0  2010-01-01                76.39  0.66\n",
       "1  2010-02-01                73.95  0.59\n",
       "2  2010-03-01                81.69  0.76\n",
       "3  2010-04-01                77.91  0.66\n",
       "4  2010-05-01                78.66  0.75"
      ]
     },
     "execution_count": 56,
     "metadata": {},
     "output_type": "execute_result"
    }
   ],
   "source": [
    "df = pd.read_csv(\"Data/VendasSupermercadosCDI.csv\", sep=\";\")\n",
    "df.head()"
   ]
  },
  {
   "cell_type": "markdown",
   "id": "a34295d3-fe42-4f5b-8b97-a4a660ecd7e3",
   "metadata": {},
   "source": [
    "O dataset possui três colunas \n",
    "- **Date:** Representa da data das vendas no supermercado\n",
    "- **VendasSupermercados:** Vendas do supermercado naquele dia\n",
    "- **CDI:** Valor do CDI (Certificado de Depósito Interbancário) naquele dia"
   ]
  },
  {
   "cell_type": "markdown",
   "id": "56f89396-4cf4-4e5f-ba93-373761eae116",
   "metadata": {},
   "source": [
    "# Análise Exploratória de Dados"
   ]
  },
  {
   "cell_type": "code",
   "execution_count": 57,
   "id": "63055c40-5e14-4434-bacc-5919c30d0b50",
   "metadata": {},
   "outputs": [
    {
     "data": {
      "text/plain": [
       "Index(['Date', 'VendasSupermercados', 'CDI'], dtype='object')"
      ]
     },
     "execution_count": 57,
     "metadata": {},
     "output_type": "execute_result"
    }
   ],
   "source": [
    "df.columns"
   ]
  },
  {
   "cell_type": "code",
   "execution_count": 58,
   "id": "43c6186e-6ceb-46f1-979f-ff57679a4af7",
   "metadata": {},
   "outputs": [
    {
     "data": {
      "text/plain": [
       "(164, 3)"
      ]
     },
     "execution_count": 58,
     "metadata": {},
     "output_type": "execute_result"
    }
   ],
   "source": [
    "# Analisando as dimensões do dataset\n",
    "df.shape"
   ]
  },
  {
   "cell_type": "markdown",
   "id": "b071814d-4753-4049-9881-8c8bd7d095f0",
   "metadata": {},
   "source": [
    "O dataset possui poucas linhas e colunas, então buscaremos criar mais variáveis para melhorar o modelo final"
   ]
  },
  {
   "cell_type": "code",
   "execution_count": 59,
   "id": "4e434e62-51f6-4fa7-9c4d-fda26b8cfcf2",
   "metadata": {},
   "outputs": [
    {
     "name": "stdout",
     "output_type": "stream",
     "text": [
      "<class 'pandas.core.frame.DataFrame'>\n",
      "RangeIndex: 164 entries, 0 to 163\n",
      "Data columns (total 3 columns):\n",
      " #   Column               Non-Null Count  Dtype  \n",
      "---  ------               --------------  -----  \n",
      " 0   Date                 164 non-null    object \n",
      " 1   VendasSupermercados  164 non-null    float64\n",
      " 2   CDI                  164 non-null    float64\n",
      "dtypes: float64(2), object(1)\n",
      "memory usage: 4.0+ KB\n"
     ]
    }
   ],
   "source": [
    "df.info()"
   ]
  },
  {
   "cell_type": "markdown",
   "id": "a8aa9ed5-aaa0-425f-bb48-0c20e16087dd",
   "metadata": {},
   "source": [
    "As features não possuem valores ausentes. As **VendasSupermercados** e **CDI** estão num formato correto, porém a **Date** precisar ser transformado para datetime"
   ]
  },
  {
   "cell_type": "code",
   "execution_count": 60,
   "id": "1372222b-890e-431d-ba23-8f93b15d6d16",
   "metadata": {},
   "outputs": [
    {
     "name": "stdout",
     "output_type": "stream",
     "text": [
      "<class 'pandas.core.series.Series'>\n",
      "RangeIndex: 164 entries, 0 to 163\n",
      "Series name: Date\n",
      "Non-Null Count  Dtype         \n",
      "--------------  -----         \n",
      "164 non-null    datetime64[ns]\n",
      "dtypes: datetime64[ns](1)\n",
      "memory usage: 1.4 KB\n"
     ]
    }
   ],
   "source": [
    "def convert_date_column(df, column_name):\n",
    "    df[column_name] = pd.to_datetime(df[column_name])\n",
    "\n",
    "convert_date_column(df, 'Date')\n",
    "df.Date.info()"
   ]
  },
  {
   "cell_type": "code",
   "execution_count": 61,
   "id": "c35d253e-17d1-45a2-ac5b-714533c6144d",
   "metadata": {},
   "outputs": [
    {
     "data": {
      "text/html": [
       "<div>\n",
       "<style scoped>\n",
       "    .dataframe tbody tr th:only-of-type {\n",
       "        vertical-align: middle;\n",
       "    }\n",
       "\n",
       "    .dataframe tbody tr th {\n",
       "        vertical-align: top;\n",
       "    }\n",
       "\n",
       "    .dataframe thead th {\n",
       "        text-align: right;\n",
       "    }\n",
       "</style>\n",
       "<table border=\"1\" class=\"dataframe\">\n",
       "  <thead>\n",
       "    <tr style=\"text-align: right;\">\n",
       "      <th></th>\n",
       "      <th>Date</th>\n",
       "      <th>VendasSupermercados</th>\n",
       "      <th>CDI</th>\n",
       "    </tr>\n",
       "  </thead>\n",
       "  <tbody>\n",
       "    <tr>\n",
       "      <th>count</th>\n",
       "      <td>164</td>\n",
       "      <td>164.000000</td>\n",
       "      <td>164.000000</td>\n",
       "    </tr>\n",
       "    <tr>\n",
       "      <th>mean</th>\n",
       "      <td>2016-10-15 19:19:01.463414528</td>\n",
       "      <td>93.174329</td>\n",
       "      <td>0.738537</td>\n",
       "    </tr>\n",
       "    <tr>\n",
       "      <th>min</th>\n",
       "      <td>2010-01-01 00:00:00</td>\n",
       "      <td>73.950000</td>\n",
       "      <td>0.130000</td>\n",
       "    </tr>\n",
       "    <tr>\n",
       "      <th>25%</th>\n",
       "      <td>2013-05-24 06:00:00</td>\n",
       "      <td>88.070000</td>\n",
       "      <td>0.537500</td>\n",
       "    </tr>\n",
       "    <tr>\n",
       "      <th>50%</th>\n",
       "      <td>2016-10-16 12:00:00</td>\n",
       "      <td>91.700000</td>\n",
       "      <td>0.785000</td>\n",
       "    </tr>\n",
       "    <tr>\n",
       "      <th>75%</th>\n",
       "      <td>2020-03-08 18:00:00</td>\n",
       "      <td>97.612500</td>\n",
       "      <td>0.952500</td>\n",
       "    </tr>\n",
       "    <tr>\n",
       "      <th>max</th>\n",
       "      <td>2023-08-01 00:00:00</td>\n",
       "      <td>122.750000</td>\n",
       "      <td>1.210000</td>\n",
       "    </tr>\n",
       "    <tr>\n",
       "      <th>std</th>\n",
       "      <td>NaN</td>\n",
       "      <td>9.001255</td>\n",
       "      <td>0.281626</td>\n",
       "    </tr>\n",
       "  </tbody>\n",
       "</table>\n",
       "</div>"
      ],
      "text/plain": [
       "                                Date  VendasSupermercados         CDI\n",
       "count                            164           164.000000  164.000000\n",
       "mean   2016-10-15 19:19:01.463414528            93.174329    0.738537\n",
       "min              2010-01-01 00:00:00            73.950000    0.130000\n",
       "25%              2013-05-24 06:00:00            88.070000    0.537500\n",
       "50%              2016-10-16 12:00:00            91.700000    0.785000\n",
       "75%              2020-03-08 18:00:00            97.612500    0.952500\n",
       "max              2023-08-01 00:00:00           122.750000    1.210000\n",
       "std                              NaN             9.001255    0.281626"
      ]
     },
     "execution_count": 61,
     "metadata": {},
     "output_type": "execute_result"
    }
   ],
   "source": [
    "df.describe()"
   ]
  },
  {
   "cell_type": "markdown",
   "id": "540e816d-79c2-4814-964e-f17755e50694",
   "metadata": {},
   "source": [
    "Vemos que a média e mediana das **VendasSupermercados** estão próximas, isso pode indicar uma distribuição mais simétrica dos dados e provavelmente pouca presença de outliers. Além disso, o desvio padrão do **CDI** está em quase 40% da média do **CDI** o que indica uma variabilidade considerável"
   ]
  },
  {
   "cell_type": "code",
   "execution_count": 62,
   "id": "c2abb857-967c-48b3-bc73-25616232c387",
   "metadata": {},
   "outputs": [
    {
     "data": {
      "text/plain": [
       "Date                   164\n",
       "VendasSupermercados    152\n",
       "CDI                     75\n",
       "dtype: int64"
      ]
     },
     "execution_count": 62,
     "metadata": {},
     "output_type": "execute_result"
    }
   ],
   "source": [
    "df.nunique(axis=0)"
   ]
  },
  {
   "cell_type": "markdown",
   "id": "4291360b-26f6-4d5b-bceb-01a16f753aec",
   "metadata": {},
   "source": [
    "Percebemos que não há datas repitidas, porém alguns dias com o mesmo número de vendas da mesma forma do CDI"
   ]
  },
  {
   "cell_type": "code",
   "execution_count": 63,
   "id": "81ce0ea4-9bab-4cf3-95d0-4efc44bdc9fc",
   "metadata": {},
   "outputs": [
    {
     "data": {
      "text/plain": [
       "VendasSupermercados\n",
       "87.41     2\n",
       "97.68     2\n",
       "94.48     2\n",
       "89.43     2\n",
       "84.39     2\n",
       "         ..\n",
       "92.38     1\n",
       "89.01     1\n",
       "116.78    1\n",
       "96.75     1\n",
       "104.75    1\n",
       "Name: count, Length: 152, dtype: int64"
      ]
     },
     "execution_count": 63,
     "metadata": {},
     "output_type": "execute_result"
    }
   ],
   "source": [
    "df.VendasSupermercados.value_counts()"
   ]
  },
  {
   "cell_type": "code",
   "execution_count": 64,
   "id": "2abf5ebb-a2e6-463c-8754-8c8d4e88c070",
   "metadata": {},
   "outputs": [
    {
     "data": {
      "text/plain": [
       "CDI\n",
       "0.54    8\n",
       "1.11    6\n",
       "0.86    6\n",
       "0.84    5\n",
       "1.07    5\n",
       "       ..\n",
       "1.00    1\n",
       "1.21    1\n",
       "1.08    1\n",
       "0.50    1\n",
       "1.14    1\n",
       "Name: count, Length: 75, dtype: int64"
      ]
     },
     "execution_count": 64,
     "metadata": {},
     "output_type": "execute_result"
    }
   ],
   "source": [
    "df.CDI.value_counts()"
   ]
  },
  {
   "cell_type": "markdown",
   "id": "941c02b4-af92-4f27-97d3-482573dcd072",
   "metadata": {},
   "source": [
    "isso confirma o que falamos acima e vemos quais os valores com repeticões e quais os mais repitidos"
   ]
  },
  {
   "cell_type": "code",
   "execution_count": 88,
   "id": "8195814d-cd0a-40fc-a24c-7dfd3cd9a459",
   "metadata": {},
   "outputs": [
    {
     "data": {
      "image/png": "[encoded data removed]",
      "text/plain": [
       "<Figure size 640x480 with 2 Axes>"
      ]
     },
     "metadata": {},
     "output_type": "display_data"
    }
   ],
   "source": [
    "numerical_features = ['VendasSupermercados', 'CDI']\n",
    "\n",
    "plt.suptitle('Distribuition of Numerical Features', fontsize=12, fontweight='bold', alpha=0.8, y=1.)\n",
    "\n",
    "for i in range(len(numerical_features)):\n",
    "    plt.subplot(2, 2, i+1)\n",
    "    sns.kdeplot(x=df[numerical_features[i]], shade=True, color='b')\n",
    "    plt.xlabel(numerical_features[i])\n",
    "    plt.tight_layout()"
   ]
  },
  {
   "cell_type": "markdown",
   "id": "f534d07b-a705-4466-8f58-e111edea946a",
   "metadata": {},
   "source": [
    "Vemos que as ditribuição de **VendasSupermercados** possui dois dois picos um menor e um maior que mostra que não segue uma distribuição normal bem definida, já a distribuição do **CDI** é bastante distorcida de uma districuição mais convencional o que deve dificultar a modelagem"
   ]
  },
  {
   "cell_type": "code",
   "execution_count": null,
   "id": "cc369115-ce45-4aff-9f1d-4f0a7845195e",
   "metadata": {},
   "outputs": [],
   "source": []
  }
 ],
 "metadata": {
  "kernelspec": {
   "display_name": "Python 3 (ipykernel)",
   "language": "python",
   "name": "python3"
  },
  "language_info": {
   "codemirror_mode": {
    "name": "ipython",
    "version": 3
   },
   "file_extension": ".py",
   "mimetype": "text/x-python",
   "name": "python",
   "nbconvert_exporter": "python",
   "pygments_lexer": "ipython3",
   "version": "3.10.13"
  }
 },
 "nbformat": 4,
 "nbformat_minor": 5
}
